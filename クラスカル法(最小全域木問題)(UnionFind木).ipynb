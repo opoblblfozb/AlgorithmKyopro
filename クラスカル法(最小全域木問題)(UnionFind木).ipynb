{
 "cells": [
  {
   "cell_type": "code",
   "execution_count": 8,
   "metadata": {
    "code_folding": []
   },
   "outputs": [],
   "source": [
    "### Unifond木定義\n",
    "### ref:https://note.nkmk.me/python-union-find/\n",
    "class UnionFind():\n",
    "    def __init__(self, n):\n",
    "        self.n = n\n",
    "        self.parents = [-1] * n\n",
    "\n",
    "    def find(self, x):\n",
    "        if self.parents[x] < 0:\n",
    "            return x\n",
    "        else:\n",
    "            self.parents[x] = self.find(self.parents[x])\n",
    "            return self.parents[x]\n",
    "\n",
    "    def union(self, x, y):\n",
    "        x = self.find(x)\n",
    "        y = self.find(y)\n",
    "\n",
    "        if x == y:\n",
    "            return\n",
    "\n",
    "        if self.parents[x] > self.parents[y]:\n",
    "            x, y = y, x\n",
    "\n",
    "        self.parents[x] += self.parents[y]\n",
    "        self.parents[y] = x\n",
    "\n",
    "    def size(self, x):\n",
    "        return -self.parents[self.find(x)]\n",
    "\n",
    "    def same(self, x, y):\n",
    "        return self.find(x) == self.find(y)\n",
    "\n",
    "    def members(self, x):\n",
    "        root = self.find(x)\n",
    "        return [i for i in range(self.n) if self.find(i) == root]\n",
    "\n",
    "    def roots(self):\n",
    "        return [i for i, x in enumerate(self.parents) if x < 0]\n",
    "\n",
    "    def group_count(self):\n",
    "        return len(self.roots())\n",
    "\n",
    "    def all_group_members(self):\n",
    "        return {r: self.members(r) for r in self.roots()}\n",
    "\n",
    "    def __str__(self):\n",
    "        return '\\n'.join('{}: {}'.format(r, self.members(r)) for r in self.roots())"
   ]
  },
  {
   "cell_type": "code",
   "execution_count": 1,
   "metadata": {},
   "outputs": [
    {
     "data": {
      "application/vnd.jupyter.widget-view+json": {
       "model_id": "bffcc6bc67974e8e909854e4dd3203c2",
       "version_major": 2,
       "version_minor": 0
      },
      "text/plain": [
       "Textarea(value='')"
      ]
     },
     "metadata": {},
     "output_type": "display_data"
    },
    {
     "data": {
      "text/plain": [
       "' example p99\\n7 9\\n0 2 1\\n1 2 2\\n1 4 10\\n2 3 3\\n2 5 7\\n3 5 1\\n3 6 5\\n4 5 5\\n5 6 8\\n'"
      ]
     },
     "execution_count": 1,
     "metadata": {},
     "output_type": "execute_result"
    }
   ],
   "source": [
    "from ipywidgets import Textarea\n",
    "\n",
    "def get_input(change):\n",
    "    global Input\n",
    "    Input=change[\"new\"]\n",
    "\n",
    "textarea = Textarea()\n",
    "textarea.observe(get_input, names='value')\n",
    "display(textarea)\n",
    "''' example p99\n",
    "7 9\n",
    "0 2 1\n",
    "1 2 2\n",
    "1 4 10\n",
    "2 3 3\n",
    "2 5 7\n",
    "3 5 1\n",
    "3 6 5\n",
    "4 5 5\n",
    "5 6 8\n",
    "'''"
   ]
  },
  {
   "cell_type": "code",
   "execution_count": 11,
   "metadata": {},
   "outputs": [
    {
     "name": "stdout",
     "output_type": "stream",
     "text": [
      "[(1, 0, 2), (2, 1, 2), (10, 1, 4), (3, 2, 3), (7, 2, 5), (1, 3, 5), (5, 3, 6), (5, 4, 5), (8, 5, 6)]\n"
     ]
    }
   ],
   "source": [
    "n, w = map(int, Input.split('\\n')[0].split())\n",
    "edges = []\n",
    "for i in range(1, w+1):\n",
    "    e = map(int ,Input.split('\\n')[i].split())\n",
    "    x, y, cost = e\n",
    "    edges.append((cost, x, y))\n",
    "print(edges)"
   ]
  },
  {
   "cell_type": "code",
   "execution_count": 13,
   "metadata": {},
   "outputs": [
    {
     "name": "stdout",
     "output_type": "stream",
     "text": [
      "17\n"
     ]
    }
   ],
   "source": [
    "def kruskal(n, edges):\n",
    "    U = UnionFind(n)\n",
    "    res = 0\n",
    "    edges = sorted(edges, key=lambda x:x[0])# 辺をコストの小さい順にみる\n",
    "    for e in edges:\n",
    "        w, s, t = e\n",
    "        if not U.same(s, t): # 閉路ができなければ追加する\n",
    "            res+=w\n",
    "            U.union(s, t)\n",
    "    return res\n",
    "print(kruskal(n, edges))"
   ]
  },
  {
   "cell_type": "code",
   "execution_count": 14,
   "metadata": {},
   "outputs": [],
   "source": [
    "### UnionFind木→最小全域木\n",
    "### そもそも木構造だから相性が良いのか"
   ]
  },
  {
   "cell_type": "code",
   "execution_count": null,
   "metadata": {},
   "outputs": [],
   "source": []
  }
 ],
 "metadata": {
  "kernelspec": {
   "display_name": "Python 3",
   "language": "python",
   "name": "python3"
  },
  "language_info": {
   "codemirror_mode": {
    "name": "ipython",
    "version": 3
   },
   "file_extension": ".py",
   "mimetype": "text/x-python",
   "name": "python",
   "nbconvert_exporter": "python",
   "pygments_lexer": "ipython3",
   "version": "3.7.4"
  }
 },
 "nbformat": 4,
 "nbformat_minor": 2
}
