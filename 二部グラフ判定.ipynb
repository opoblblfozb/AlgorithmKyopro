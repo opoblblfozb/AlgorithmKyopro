{
 "cells": [
  {
   "cell_type": "code",
   "execution_count": 4,
   "metadata": {},
   "outputs": [
    {
     "name": "stdout",
     "output_type": "stream",
     "text": [
      "Yes\n"
     ]
    }
   ],
   "source": [
    "# data\n",
    "N = 4\n",
    "G = [[1,3],[0,2],[3,1],[0,2],[5,],[4,]]\n",
    "color = [0 for _ in range(N)]\n",
    "\n",
    "### あるノードを塗るという作業に注目したdfs\n",
    "def dfs(v, c):\n",
    "    color[v] = c\n",
    "    for j in range(len(G[v])):\n",
    "        if color[G[v][j]] == c:\n",
    "            return False\n",
    "        if color[G[v][j]] == 0 \\\n",
    "                and (not dfs(G[v][j], -c)):\n",
    "            return False\n",
    "    return True\n",
    "\n",
    "def main():\n",
    "    for i in range(N):\n",
    "        if color[i]==0:\n",
    "            if not dfs(i, 1):\n",
    "                print('No')\n",
    "                return\n",
    "    print('Yes')\n",
    "\n",
    "if __name__ == '__main__':\n",
    "    main()"
   ]
  },
  {
   "cell_type": "code",
   "execution_count": null,
   "metadata": {},
   "outputs": [],
   "source": [
    "### reference:https://juppy.hatenablog.com/entry/2018/10/30/%E8%9F%BB%E6%9C%AC_python_%E4%BA%8C%E9%83%A8%E3%82%B0%E3%83%A9%E3%83%95%E5%88%A4%E5%AE%9A_%E7%AB%B6%E6%8A%80%E3%83%97%E3%83%AD%E3%82%B0%E3%83%A9%E3%83%9F%E3%83%B3%E3%82%B0\n",
    "\n",
    "n,w = map(int,input().split()) #n:頂点数　w:辺の数\n",
    "g = [[] for i in range(n)] #g[i]:点iに隣接している点のリスト\n",
    "for i in range(w):\n",
    "    x,y = map(int,input().split()) \n",
    "    g[x].append(y)\n",
    "    g[y].append(x)\n",
    "color = [0] * n #color[i]:点iの色(1 or -1)。但し塗られていないときは0とする\n",
    "\n",
    "def f(v,c):\n",
    "    #頂点vに隣接する頂点全てを塗るあるいは判定する\n",
    "    color[v] = c\n",
    "    for i in range(len(g[v])):\n",
    "        if color[ g[v][i] ] == c:\n",
    "            return False\n",
    "        elif color[ g[v][i] ] == 0 and not f(g[v][i],-c):\n",
    "            #(g[v][i]がまだ塗られていない　かつ　そこを-cで塗っても問題ない) ではないなら\n",
    "            return False\n",
    "    return True\n",
    "\n",
    "k = 1 #判定　1ならYes -1ならNo\n",
    "for i in range(n):\n",
    "    if color[i] == 0:\n",
    "        if not f(i,1):\n",
    "            k = -1\n",
    "\n",
    "if k == 1:\n",
    "    print('Yes')\n",
    "else:\n",
    "    print('No')"
   ]
  }
 ],
 "metadata": {
  "kernelspec": {
   "display_name": "Python 3",
   "language": "python",
   "name": "python3"
  },
  "language_info": {
   "codemirror_mode": {
    "name": "ipython",
    "version": 3
   },
   "file_extension": ".py",
   "mimetype": "text/x-python",
   "name": "python",
   "nbconvert_exporter": "python",
   "pygments_lexer": "ipython3",
   "version": "3.7.4"
  }
 },
 "nbformat": 4,
 "nbformat_minor": 2
}
