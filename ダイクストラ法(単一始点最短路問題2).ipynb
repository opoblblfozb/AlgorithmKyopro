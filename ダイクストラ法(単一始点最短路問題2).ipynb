{
 "cells": [
  {
   "cell_type": "code",
   "execution_count": 16,
   "metadata": {},
   "outputs": [
    {
     "name": "stdout",
     "output_type": "stream",
     "text": [
      "[0, 2, 5, 7, 11, 8, 16]\n"
     ]
    }
   ],
   "source": [
    "import numpy as np\n",
    "INF = float('INF')\n",
    "cost = [[INF,2,5,INF,INF,INF,INF],\n",
    "        [2,INF,4,6,10,INF,INF],\n",
    "        [5,4,INF,2,INF,INF,INF],\n",
    "        [INF,6,2,INF,INF,1,INF],\n",
    "        [INF,10,INF,INF,INF,3,5],\n",
    "        [INF,INF,INF,1,3,INF,9],\n",
    "        [INF,INF,INF,INF,5,9,INF]]\n",
    "N = 7\n",
    "dist = [INF for _ in range(N)]\n",
    "used = [False for _ in range(N)]\n",
    "\n",
    "def Dijkstra(s):\n",
    "    dist[s] = 0\n",
    "    while True:\n",
    "        v = -1\n",
    "        ### 使用されていないノードのうち、更新距離が最短のものは\n",
    "        ### 最短距離が確定したノードvとして扱う\n",
    "        for u in range(N):\n",
    "            if (not used[u]) and (v==-1 or dist[u]<dist[v]):\n",
    "                v = u\n",
    "        if v==-1:\n",
    "            break  ## 全て使用されている＝更新されなければ終了\n",
    "        \n",
    "        used[v] = True\n",
    "        for j in range(N):  ## vを用いて、すべての頂点の距離更新(vとつながあらないノードはinfへ)\n",
    "            dist[j] = min(dist[j], dist[v] + cost[v][j])\n",
    "    return dist\n",
    "\n",
    "if __name__ == '__main__':\n",
    "    print(Dijkstra(0))"
   ]
  },
  {
   "cell_type": "code",
   "execution_count": null,
   "metadata": {},
   "outputs": [],
   "source": [
    "### priority_queを用いて"
   ]
  }
 ],
 "metadata": {
  "kernelspec": {
   "display_name": "Python 3",
   "language": "python",
   "name": "python3"
  },
  "language_info": {
   "codemirror_mode": {
    "name": "ipython",
    "version": 3
   },
   "file_extension": ".py",
   "mimetype": "text/x-python",
   "name": "python",
   "nbconvert_exporter": "python",
   "pygments_lexer": "ipython3",
   "version": "3.7.4"
  }
 },
 "nbformat": 4,
 "nbformat_minor": 2
}
