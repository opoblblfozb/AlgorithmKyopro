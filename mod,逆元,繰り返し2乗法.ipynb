{
 "cells": [
  {
   "cell_type": "code",
   "execution_count": 1,
   "metadata": {},
   "outputs": [],
   "source": [
    "### ref:http://satanic0258.hatenablog.com/entry/2016/04/29/004730\n",
    "### N**P(mod M)をO(logP)で求めるアルゴリズム\n",
    "def RepeatSquaring(N, P, M):\n",
    "    if P==0:\n",
    "        return 1\n",
    "    elif P%2==0:\n",
    "        t = RepeatSquaring(N, P/2, M)\n",
    "        return (t*t)%M\n",
    "    else:\n",
    "        return (N*RepeatSquaring(N, P-1, M))%M"
   ]
  },
  {
   "cell_type": "code",
   "execution_count": 22,
   "metadata": {},
   "outputs": [],
   "source": [
    "### ref:https://qiita.com/drken/items/3b4fdf0a78e7a138cd9a\n",
    "### フェルマーの小定理, modでの割り算\n",
    "\n",
    "################### 原理的にはこれ\n",
    "#### b^-1を求める。bにかけてmodの世界で1になる数\n",
    "def gyakugen(b, mod):\n",
    "    for i in range(1, mod):\n",
    "        if (i*b)%mod == 1:\n",
    "            return i\n",
    "\n",
    "#### a/b (mod m)は a*(b^-1) (modm)\n",
    "def modinv(a, b, mod):\n",
    "    a %= mod\n",
    "    g = gyakugen(b, mod)\n",
    "    return (a*g)%mod\n",
    "\n",
    "#################### もっと早く, Fermatの小定理\n",
    "def modinv_f(a, b, mod):\n",
    "    a %= mod\n",
    "    g = RepeatSquaring(b, mod-2, mod)\n",
    "    return (a*g)%mod"
   ]
  },
  {
   "cell_type": "markdown",
   "metadata": {},
   "source": [
    "fermatの小定理  \n",
    "pを素数、aをpの倍数でない整数として、\n",
    "$$\n",
    "  a^{p-1} \\equiv 1 (mod p)\n",
    "$$\n",
    "なので、逆元を求めるには\n",
    "$$\n",
    "  a\\times a^{p-2} \\equiv 1 (mod p)\n",
    "$$\n",
    "と変形すると,aの逆元は$a^{p-2}$であるとわかる"
   ]
  },
  {
   "cell_type": "code",
   "execution_count": 26,
   "metadata": {},
   "outputs": [],
   "source": [
    "### abc156D\n",
    "### https://atcoder.jp/contests/abc156/tasks/abc156_d\n",
    "### a, bは最高でも2*10**5の値まで！！！これにきずけ！"
   ]
  },
  {
   "cell_type": "code",
   "execution_count": 34,
   "metadata": {},
   "outputs": [
    {
     "name": "stdout",
     "output_type": "stream",
     "text": [
      "34076506\n"
     ]
    }
   ],
   "source": [
    "### ref:https://atcoder.jp/contests/abc156/submissions/10305856\n",
    "import sys\n",
    "def input(): return sys.stdin.readline().rstrip()\n",
    "\n",
    "def main():\n",
    "    MOD = 10 ** 9 + 7\n",
    "    n, a, b =  [1000000000 ,141421 ,173205]\n",
    "\n",
    "    def comb_c(n, r):\n",
    "        if r > n - r:\n",
    "            r = n - r\n",
    "        a, b = 1, 1\n",
    "        for i in range(r):\n",
    "            a = a * (n - i) % MOD\n",
    "            b = b * (i + 1) % MOD\n",
    "        return a * pow(b, MOD-2, MOD)\n",
    "\n",
    "    ans = pow(2, n, MOD) - 1\n",
    "    ans -= comb_c(n, a)\n",
    "    ans -= comb_c(n, b)\n",
    "    ans %= MOD\n",
    "    print(ans)\n",
    "\n",
    "if __name__ == '__main__':\n",
    "    main()\n"
   ]
  },
  {
   "cell_type": "code",
   "execution_count": 40,
   "metadata": {},
   "outputs": [
    {
     "name": "stdout",
     "output_type": "stream",
     "text": [
      "1\n",
      "2\n",
      "-965923501\n"
     ]
    }
   ],
   "source": [
    "'''\n",
    "def RepeatSquaring(N, P, M):\n",
    "    if P==0:\n",
    "        return 1\n",
    "    elif P%2==0:\n",
    "        t = RepeatSquaring(N, P/2, M)\n",
    "        return (t*t)%M\n",
    "    else:\n",
    "        return (N*RepeatSquaring(N, P-1, M))%M\n",
    "'''\n",
    "def cmb(n, r, mod):\n",
    "    if (n-r)<r:\n",
    "        r = n-r\n",
    "\n",
    "    X = 1\n",
    "    Y = 1\n",
    "    for i in range(r):\n",
    "        X = X*(n-i)%mod\n",
    "        Y = Y*(i+1)%mod\n",
    "    Yinv = pow(Y, mod-2, mod)\n",
    "    return (X*Yinv)%mod\n",
    "def main():\n",
    "    MOD = 10**9 + 7  \n",
    "    n, a, b = [1000000000 ,141421 ,173205]#map(int, input().split())\n",
    "    base = pow(2, n, MOD) - 1\n",
    "    print(1)\n",
    "    base -= cmb(n, a, MOD)\n",
    "    print(2)\n",
    "    base -= cmb(n, b, MOD)\n",
    "    print(base)\n",
    "\n",
    "if __name__ == '__main__':\n",
    "    main()"
   ]
  },
  {
   "cell_type": "code",
   "execution_count": 1,
   "metadata": {},
   "outputs": [
    {
     "name": "stdout",
     "output_type": "stream",
     "text": [
      "1000000000 141421 173205\n",
      "34076506\n"
     ]
    }
   ],
   "source": [
    "def main():\n",
    "    MOD = 10**9 + 7\n",
    "    n, a, b = map(int, input().split())\n",
    "    \n",
    "    def cmb(n, r):\n",
    "        if n-r<r:\n",
    "            r = n-r\n",
    "        \n",
    "        X, Y = (1, 1)\n",
    "        for i in range(r):\n",
    "            X = X*(n-i)%MOD\n",
    "            Y = Y*(i+1)%MOD\n",
    "        return X*pow(Y, MOD-2, MOD)\n",
    "    \n",
    "    base = pow(2, n, MOD)-1\n",
    "    base -= cmb(n, a)\n",
    "    base -= cmb(n, b)\n",
    "    base %= MOD\n",
    "    print(base)\n",
    "if __name__ == '__main__':\n",
    "    main()"
   ]
  },
  {
   "cell_type": "code",
   "execution_count": 3,
   "metadata": {},
   "outputs": [
    {
     "name": "stdout",
     "output_type": "stream",
     "text": [
      "34076506\n"
     ]
    }
   ],
   "source": [
    "import sys\n",
    "def input(): return sys.stdin.readline().rstrip()\n",
    "\n",
    "def main():\n",
    "    MOD = 10 ** 9 + 7\n",
    "    n, a, b =  [1000000000 ,141421 ,173205]\n",
    "\n",
    "    def comb_c(n, r):\n",
    "        if r > n - r:\n",
    "            r = n - r\n",
    "        a, b = 1, 1\n",
    "        for i in range(r):\n",
    "            a = a * (n - i) % MOD\n",
    "            b = b * (i + 1) % MOD\n",
    "        return a * pow(b, MOD-2, MOD)\n",
    "\n",
    "    ans = pow(2, n, MOD) - 1\n",
    "    ans -= comb_c(n, a)\n",
    "    ans -= comb_c(n, b)\n",
    "    ans %= MOD\n",
    "    print(ans)\n",
    "\n",
    "if __name__ == '__main__':\n",
    "    main()\n"
   ]
  },
  {
   "cell_type": "code",
   "execution_count": null,
   "metadata": {},
   "outputs": [],
   "source": []
  }
 ],
 "metadata": {
  "kernelspec": {
   "display_name": "Python 3",
   "language": "python",
   "name": "python3"
  },
  "language_info": {
   "codemirror_mode": {
    "name": "ipython",
    "version": 3
   },
   "file_extension": ".py",
   "mimetype": "text/x-python",
   "name": "python",
   "nbconvert_exporter": "python",
   "pygments_lexer": "ipython3",
   "version": "3.7.4"
  }
 },
 "nbformat": 4,
 "nbformat_minor": 2
}
