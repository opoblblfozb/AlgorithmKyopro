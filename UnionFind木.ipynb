{
 "cells": [
  {
   "cell_type": "code",
   "execution_count": 4,
   "metadata": {
    "code_folding": []
   },
   "outputs": [],
   "source": [
    "### ref:https://note.nkmk.me/python-union-find/\n",
    "class UnionFind():\n",
    "    def __init__(self, n):\n",
    "        self.n = n\n",
    "        self.parents = [-1] * n\n",
    "\n",
    "    def find(self, x):\n",
    "        if self.parents[x] < 0:\n",
    "            return x\n",
    "        else:\n",
    "            self.parents[x] = self.find(self.parents[x])\n",
    "            return self.parents[x]\n",
    "\n",
    "    def union(self, x, y):\n",
    "        x = self.find(x)\n",
    "        y = self.find(y)\n",
    "\n",
    "        if x == y:\n",
    "            return\n",
    "\n",
    "        if self.parents[x] > self.parents[y]:\n",
    "            x, y = y, x\n",
    "\n",
    "        self.parents[x] += self.parents[y]\n",
    "        self.parents[y] = x\n",
    "\n",
    "    def size(self, x):\n",
    "        return -self.parents[self.find(x)]\n",
    "\n",
    "    def same(self, x, y):\n",
    "        return self.find(x) == self.find(y)\n",
    "\n",
    "    def members(self, x):\n",
    "        root = self.find(x)\n",
    "        return [i for i in range(self.n) if self.find(i) == root]\n",
    "\n",
    "    def roots(self):\n",
    "        return [i for i, x in enumerate(self.parents) if x < 0]\n",
    "\n",
    "    def group_count(self):\n",
    "        return len(self.roots())\n",
    "\n",
    "    def all_group_members(self):\n",
    "        return {r: self.members(r) for r in self.roots()}\n",
    "\n",
    "    def __str__(self):\n",
    "        return '\\n'.join('{}: {}'.format(r, self.members(r)) for r in self.roots())"
   ]
  },
  {
   "cell_type": "code",
   "execution_count": 30,
   "metadata": {},
   "outputs": [
    {
     "name": "stdout",
     "output_type": "stream",
     "text": [
      "[-1, -1, -1, -1, -1, -1]\n",
      "0: [0]\n",
      "1: [1]\n",
      "2: [2]\n",
      "3: [3]\n",
      "4: [4]\n",
      "5: [5]\n",
      "---------\n",
      "[-2, -1, 0, -1, -1, -1]\n",
      "0: [0, 2]\n",
      "1: [1]\n",
      "3: [3]\n",
      "4: [4]\n",
      "5: [5]\n",
      "-----------\n",
      "[-2, -2, 0, 1, -1, -1]\n",
      "0: [0, 2]\n",
      "1: [1, 3]\n",
      "4: [4]\n",
      "5: [5]\n",
      "---------\n",
      "[-2, -2, 0, 1, -2, 4]\n",
      "0: [0, 2]\n",
      "1: [1, 3]\n",
      "4: [4, 5]\n",
      "---------\n",
      "[-2, -4, 0, 1, 1, 4]\n",
      "0: [0, 2]\n",
      "1: [1, 3, 4, 5]\n",
      "[-2, -4, 0, 1, 1, 1]\n",
      "---------\n"
     ]
    }
   ],
   "source": [
    "uf = UnionFind(6)\n",
    "print(uf.parents)\n",
    "print(uf)\n",
    "print('---------')\n",
    "uf.union(0, 2)\n",
    "print(uf.parents)\n",
    "print(uf)\n",
    "print('-----------')\n",
    "uf.union(1, 3)\n",
    "print(uf.parents)\n",
    "print(uf)\n",
    "print('---------')\n",
    "uf.union(4, 5)\n",
    "print(uf.parents)\n",
    "print(uf)\n",
    "print('---------')\n",
    "uf.union(1, 4)\n",
    "print(uf.parents)\n",
    "print(uf)\n",
    "print(uf.parents)\n",
    "print('---------')"
   ]
  },
  {
   "cell_type": "code",
   "execution_count": 33,
   "metadata": {},
   "outputs": [
    {
     "name": "stdout",
     "output_type": "stream",
     "text": [
      "1\n",
      "[-2, -4, 0, 1, 1, 1]\n",
      "2\n",
      "4\n",
      "True\n",
      "[0, 2]\n",
      "[1, 3, 4, 5]\n",
      "[0, 1]\n"
     ]
    }
   ],
   "source": [
    "print(uf.find(5))\n",
    "print(uf.parents)\n",
    "print(uf.size(0))\n",
    "print(uf.size(5)) ## 要素５が所属している木のノード数\n",
    "print(uf.same(0, 2))\n",
    "print(uf.members(0))\n",
    "print(uf.members(5))\n",
    "print(uf.roots())"
   ]
  }
 ],
 "metadata": {
  "kernelspec": {
   "display_name": "Python 3",
   "language": "python",
   "name": "python3"
  },
  "language_info": {
   "codemirror_mode": {
    "name": "ipython",
    "version": 3
   },
   "file_extension": ".py",
   "mimetype": "text/x-python",
   "name": "python",
   "nbconvert_exporter": "python",
   "pygments_lexer": "ipython3",
   "version": "3.7.4"
  }
 },
 "nbformat": 4,
 "nbformat_minor": 2
}
