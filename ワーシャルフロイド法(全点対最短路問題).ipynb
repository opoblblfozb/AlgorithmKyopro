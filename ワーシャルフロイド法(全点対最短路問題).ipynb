{
 "cells": [
  {
   "cell_type": "code",
   "execution_count": 2,
   "metadata": {},
   "outputs": [
    {
     "name": "stdout",
     "output_type": "stream",
     "text": [
      "[[0, 2, 6, 3], [1, 0, 4, 1], [5, 4, 0, 5], [2, 1, 5, 0]]\n"
     ]
    }
   ],
   "source": [
    "INF = float('inf')\n",
    "dist = [[0,2,INF,13],\n",
    "        [1,0,4,1],\n",
    "        [INF,4,0,9],\n",
    "        [13,1,9,0]]\n",
    "N = 4\n",
    "def WarshallFloyd():\n",
    "    for i in range(N):\n",
    "        for j in range(N):\n",
    "            for k in range(N):\n",
    "                dist[i][j] = min(dist[i][j], dist[i][k] + dist[k][j])\n",
    "    return dist\n",
    "\n",
    "print(WarshallFloyd())"
   ]
  },
  {
   "cell_type": "code",
   "execution_count": null,
   "metadata": {},
   "outputs": [],
   "source": [
    "### 経路復元問題あとで"
   ]
  }
 ],
 "metadata": {
  "kernelspec": {
   "display_name": "Python 3",
   "language": "python",
   "name": "python3"
  },
  "language_info": {
   "codemirror_mode": {
    "name": "ipython",
    "version": 3
   },
   "file_extension": ".py",
   "mimetype": "text/x-python",
   "name": "python",
   "nbconvert_exporter": "python",
   "pygments_lexer": "ipython3",
   "version": "3.7.4"
  }
 },
 "nbformat": 4,
 "nbformat_minor": 2
}
