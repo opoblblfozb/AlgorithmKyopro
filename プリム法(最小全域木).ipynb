{
 "cells": [
  {
   "cell_type": "code",
   "execution_count": 7,
   "metadata": {},
   "outputs": [
    {
     "data": {
      "application/vnd.jupyter.widget-view+json": {
       "model_id": "2a7d76288e14481dbe6c1281120521c6",
       "version_major": 2,
       "version_minor": 0
      },
      "text/plain": [
       "Textarea(value='')"
      ]
     },
     "metadata": {},
     "output_type": "display_data"
    },
    {
     "data": {
      "text/plain": [
       "' example p99\\n7 9\\n0 2 1\\n1 2 2\\n1 4 10\\n2 3 3\\n2 5 7\\n3 5 1\\n3 6 5\\n4 5 5\\n5 6 8\\n'"
      ]
     },
     "execution_count": 7,
     "metadata": {},
     "output_type": "execute_result"
    }
   ],
   "source": [
    "from ipywidgets import Textarea\n",
    "\n",
    "def get_input(change):\n",
    "    global Input\n",
    "    Input=change[\"new\"]\n",
    "\n",
    "textarea = Textarea()\n",
    "textarea.observe(get_input, names='value')\n",
    "display(textarea)\n",
    "''' example p99\n",
    "7 9\n",
    "0 2 1\n",
    "1 2 2\n",
    "1 4 10\n",
    "2 3 3\n",
    "2 5 7\n",
    "3 5 1\n",
    "3 6 5\n",
    "4 5 5\n",
    "5 6 8\n",
    "'''"
   ]
  },
  {
   "cell_type": "code",
   "execution_count": 35,
   "metadata": {},
   "outputs": [
    {
     "name": "stdout",
     "output_type": "stream",
     "text": [
      "[[(1, 2)], [(2, 2), (10, 4)], [(1, 0), (2, 1), (3, 3), (7, 5)], [(3, 2), (1, 5), (5, 6)], [(10, 1), (5, 5)], [(7, 2), (1, 3), (5, 4), (8, 6)], [(5, 3), (8, 5)]]\n"
     ]
    }
   ],
   "source": [
    "n, w = map(int, Input.split('\\n')[0].split())\n",
    "edges = [[] for _ in range(n)]\n",
    "for i in range(1, w+1):\n",
    "    e = map(int ,Input.split('\\n')[i].split())\n",
    "    x, y, cost = e\n",
    "    edges[x].append((cost, y))\n",
    "    edges[y].append((cost, x)) ## python のheapqが第０要素で優先度をつけているためこの順\n",
    "print(edges)"
   ]
  },
  {
   "cell_type": "code",
   "execution_count": 36,
   "metadata": {},
   "outputs": [
    {
     "name": "stdout",
     "output_type": "stream",
     "text": [
      "================\n",
      "[(1, 2)]\n",
      "(1, 2)\n",
      "================\n",
      "[(2, 1), (3, 3), (7, 5)]\n",
      "(2, 1)\n",
      "================\n",
      "[(3, 3), (7, 5), (10, 4)]\n",
      "(3, 3)\n",
      "================\n",
      "[(1, 5), (5, 6), (7, 5), (10, 4)]\n",
      "(1, 5)\n",
      "================\n",
      "[(5, 4), (5, 6), (7, 5), (10, 4), (8, 6)]\n",
      "(5, 4)\n",
      "================\n",
      "[(5, 6), (8, 6), (7, 5), (10, 4)]\n",
      "(5, 6)\n",
      "================\n",
      "[(7, 5), (8, 6), (10, 4)]\n",
      "================\n",
      "[(8, 6), (10, 4)]\n",
      "================\n",
      "[(10, 4)]\n"
     ]
    },
    {
     "data": {
      "text/plain": [
       "17"
      ]
     },
     "execution_count": 36,
     "metadata": {},
     "output_type": "execute_result"
    }
   ],
   "source": [
    "import heapq\n",
    "\n",
    "### 最小全域木のコストresを返す。\n",
    "def Prime():\n",
    "    used = [True]*n ## p100で言うところのＴ、　True含まれないFalse含まれる\n",
    "    res = 0  ### 最小全域木のコスト\n",
    "    \n",
    "    ### 最初はテキトーな点をＴにして開始\n",
    "    edgelist = [] # Tから延びる枝\n",
    "    for e in edges[0]:\n",
    "        heapq.heappush(edgelist, e)\n",
    "    used[0] = False  \n",
    "\n",
    "    # Tから延びる枝がなくなったとき終了\n",
    "    while len(edgelist) != 0:\n",
    "        print('================')\n",
    "        print(list(edgelist))\n",
    "        minedge = heapq.heappop(edgelist)\n",
    "        if not used[minedge[1]]: # 最小コストの枝先ノードがＴに含まれていたら次←これいる？？\n",
    "            continue\n",
    "        print(minedge)\n",
    "        v = minedge[1]\n",
    "        used[v] = False # 最小コストの枝先のノードを新しくＴに追加\n",
    "        res += minedge[0] # 枝の重みを最小全域木のコストに追加\n",
    "        for e in edges[v]:# 追加されたノードｖから延びる枝をＴから延びる枝のリストへ\n",
    "            if used[e[1]]:  # ただし、vのつながってる先がＴに含まれていなかった場合\n",
    "                heapq.heappush(edgelist, e)\n",
    "    return res\n",
    "\n",
    "Prime()"
   ]
  },
  {
   "cell_type": "code",
   "execution_count": null,
   "metadata": {},
   "outputs": [],
   "source": []
  }
 ],
 "metadata": {
  "kernelspec": {
   "display_name": "Python 3",
   "language": "python",
   "name": "python3"
  },
  "language_info": {
   "codemirror_mode": {
    "name": "ipython",
    "version": 3
   },
   "file_extension": ".py",
   "mimetype": "text/x-python",
   "name": "python",
   "nbconvert_exporter": "python",
   "pygments_lexer": "ipython3",
   "version": "3.7.4"
  }
 },
 "nbformat": 4,
 "nbformat_minor": 2
}
