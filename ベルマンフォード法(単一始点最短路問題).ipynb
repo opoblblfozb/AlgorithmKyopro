{
 "cells": [
  {
   "cell_type": "code",
   "execution_count": 1,
   "metadata": {},
   "outputs": [],
   "source": [
    "ed = '''0 1 2\n",
    "0 2 5\n",
    "1 2 4\n",
    "2 3 2\n",
    "1 3 6\n",
    "1 4 10\n",
    "3 5 1\n",
    "4 5 3\n",
    "4 6 5\n",
    "5 6 9'''"
   ]
  },
  {
   "cell_type": "code",
   "execution_count": 2,
   "metadata": {},
   "outputs": [
    {
     "name": "stdout",
     "output_type": "stream",
     "text": [
      "始点0\n",
      "距離 [0, 2, 5, 7, 11, 8, 16]\n",
      "始点1\n",
      "距離 [2, 0, 4, 6, 10, 7, 15]\n",
      "始点2\n",
      "距離 [5, 4, 0, 2, 6, 3, 11]\n",
      "始点3\n",
      "距離 [7, 6, 2, 0, 4, 1, 9]\n",
      "始点4\n",
      "距離 [11, 10, 6, 4, 0, 3, 5]\n",
      "始点5\n",
      "距離 [8, 7, 3, 1, 3, 0, 8]\n",
      "始点6\n",
      "距離 [16, 15, 11, 9, 5, 8, 0]\n"
     ]
    }
   ],
   "source": [
    "N = 7 # ノード数\n",
    "edges = []# エッジ\n",
    "for k in ed.split('\\n'):\n",
    "    x, y, cost = map(int, k.split())\n",
    "    edges.append((x, y, cost))\n",
    "    edges.append((y, x, cost))\n",
    "E = len(edges)#エッジ数\n",
    "dist = [float('inf') for _ in range(N)] # 距離\n",
    "\n",
    "def BellMan(s):\n",
    "    for i in range(N):\n",
    "        dist[i] = float('inf')\n",
    "    dist[s] = 0\n",
    "    \n",
    "    ### 領土を広げていくイメージで更新\n",
    "    while True:\n",
    "        update = False\n",
    "        for i in range(E):\n",
    "            e = edges[i]\n",
    "            if (dist[e[0]] != float('inf')) and (dist[e[1]] > dist[e[0]] + e[2]):\n",
    "                dist[e[1]] = dist[e[0]] + e[2]\n",
    "                update = True\n",
    "        \n",
    "        if not update:\n",
    "            break\n",
    "    return dist\n",
    "\n",
    "if __name__ == '__main__':\n",
    "    for i in range(N):\n",
    "        print('始点' + str(i))\n",
    "        print('距離', BellMan(i))"
   ]
  },
  {
   "cell_type": "markdown",
   "metadata": {},
   "source": [
    "# 上記は負の閉路が存在することが仮定されている\n",
    "# 逆に利用して負の閉路の検出に利用できる。"
   ]
  },
  {
   "cell_type": "code",
   "execution_count": 7,
   "metadata": {},
   "outputs": [],
   "source": [
    "negaed = '''0 1 -2\n",
    "0 2 -5\n",
    "1 2 -4\n",
    "2 3 2\n",
    "1 3 6\n",
    "1 4 10\n",
    "3 5 1\n",
    "4 5 3\n",
    "4 6 5\n",
    "5 6 9'''"
   ]
  },
  {
   "cell_type": "code",
   "execution_count": 10,
   "metadata": {},
   "outputs": [
    {
     "name": "stdout",
     "output_type": "stream",
     "text": [
      "True\n",
      "[16, 15, 11, 9, 5, 8, 0]\n"
     ]
    }
   ],
   "source": [
    "N = 7\n",
    "edges = []\n",
    "for k in negaed.split('\\n'):\n",
    "    x, y, cost = map(int, k.split())\n",
    "    edges.append((x, y, cost))\n",
    "    edges.append((y, x, cost))\n",
    "E = len(edges)\n",
    "\n",
    "def FindNegativeLoop():\n",
    "    dist = [0 for _ in range(N)]\n",
    "    for i in range(N):\n",
    "        for j in range(E):\n",
    "            e = edges[j]\n",
    "            if (dist[e[1] > dist[e[0]] + e[2]]):\n",
    "                dist[e[1]] = dist[e[[0]]] + e[2]\n",
    "                \n",
    "            if (i==N-1):\n",
    "                return True\n",
    "    return False\n",
    "\n",
    "if __name__ == '__main__':\n",
    "    print(FindNegativeLoop())\n",
    "    print(dist)"
   ]
  },
  {
   "cell_type": "code",
   "execution_count": null,
   "metadata": {},
   "outputs": [],
   "source": []
  }
 ],
 "metadata": {
  "kernelspec": {
   "display_name": "Python 3",
   "language": "python",
   "name": "python3"
  },
  "language_info": {
   "codemirror_mode": {
    "name": "ipython",
    "version": 3
   },
   "file_extension": ".py",
   "mimetype": "text/x-python",
   "name": "python",
   "nbconvert_exporter": "python",
   "pygments_lexer": "ipython3",
   "version": "3.7.4"
  }
 },
 "nbformat": 4,
 "nbformat_minor": 2
}
