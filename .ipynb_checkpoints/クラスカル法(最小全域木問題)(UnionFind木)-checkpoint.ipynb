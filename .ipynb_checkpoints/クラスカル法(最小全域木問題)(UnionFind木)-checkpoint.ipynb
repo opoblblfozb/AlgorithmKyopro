{
 "cells": [
  {
   "cell_type": "code",
   "execution_count": 1,
   "metadata": {},
   "outputs": [
    {
     "data": {
      "application/vnd.jupyter.widget-view+json": {
       "model_id": "a8266570455d492e96b16d1677eaeec0",
       "version_major": 2,
       "version_minor": 0
      },
      "text/plain": [
       "Textarea(value='')"
      ]
     },
     "metadata": {},
     "output_type": "display_data"
    },
    {
     "data": {
      "text/plain": [
       "' example p99\\n7 9\\n0 2 1\\n1 2 2\\n1 4 10\\n2 3 3\\n2 5 7\\n3 5 1\\n3 6 5\\n4 5 5\\n5 6 8\\n'"
      ]
     },
     "execution_count": 1,
     "metadata": {},
     "output_type": "execute_result"
    }
   ],
   "source": [
    "from ipywidgets import Textarea\n",
    "\n",
    "def get_input(change):\n",
    "    global Input\n",
    "    Input=change[\"new\"]\n",
    "\n",
    "textarea = Textarea()\n",
    "textarea.observe(get_input, names='value')\n",
    "display(textarea)\n",
    "''' example p99\n",
    "7 9\n",
    "0 2 1\n",
    "1 2 2\n",
    "1 4 10\n",
    "2 3 3\n",
    "2 5 7\n",
    "3 5 1\n",
    "3 6 5\n",
    "4 5 5\n",
    "5 6 8\n",
    "'''"
   ]
  },
  {
   "cell_type": "code",
   "execution_count": 2,
   "metadata": {},
   "outputs": [
    {
     "name": "stdout",
     "output_type": "stream",
     "text": [
      "[[(1, 2)], [(2, 2), (10, 4)], [(1, 0), (2, 1), (3, 3), (7, 5)], [(3, 2), (1, 5), (5, 6)], [(10, 1), (5, 5)], [(7, 2), (1, 3), (5, 4), (8, 6)], [(5, 3), (8, 5)]]\n"
     ]
    }
   ],
   "source": [
    "n, w = map(int, Input.split('\\n')[0].split())\n",
    "edges = [[] for _ in range(n)]\n",
    "for i in range(1, w+1):\n",
    "    e = map(int ,Input.split('\\n')[i].split())\n",
    "    x, y, cost = e\n",
    "    edges[x].append((cost, y))\n",
    "    edges[y].append((cost, x)) ## python のheapqが第０要素で優先度をつけているためこの順\n",
    "print(edges)"
   ]
  },
  {
   "cell_type": "code",
   "execution_count": 4,
   "metadata": {
    "code_folding": []
   },
   "outputs": [],
   "source": [
    "### ref:https://note.nkmk.me/python-union-find/\n",
    "class UnionFind():\n",
    "    def __init__(self, n):\n",
    "        self.n = n\n",
    "        self.parents = [-1] * n\n",
    "\n",
    "    def find(self, x):\n",
    "        if self.parents[x] < 0:\n",
    "            return x\n",
    "        else:\n",
    "            self.parents[x] = self.find(self.parents[x])\n",
    "            return self.parents[x]\n",
    "\n",
    "    def union(self, x, y):\n",
    "        x = self.find(x)\n",
    "        y = self.find(y)\n",
    "\n",
    "        if x == y:\n",
    "            return\n",
    "\n",
    "        if self.parents[x] > self.parents[y]:\n",
    "            x, y = y, x\n",
    "\n",
    "        self.parents[x] += self.parents[y]\n",
    "        self.parents[y] = x\n",
    "\n",
    "    def size(self, x):\n",
    "        return -self.parents[self.find(x)]\n",
    "\n",
    "    def same(self, x, y):\n",
    "        return self.find(x) == self.find(y)\n",
    "\n",
    "    def members(self, x):\n",
    "        root = self.find(x)\n",
    "        return [i for i in range(self.n) if self.find(i) == root]\n",
    "\n",
    "    def roots(self):\n",
    "        return [i for i, x in enumerate(self.parents) if x < 0]\n",
    "\n",
    "    def group_count(self):\n",
    "        return len(self.roots())\n",
    "\n",
    "    def all_group_members(self):\n",
    "        return {r: self.members(r) for r in self.roots()}\n",
    "\n",
    "    def __str__(self):\n",
    "        return '\\n'.join('{}: {}'.format(r, self.members(r)) for r in self.roots())"
   ]
  },
  {
   "cell_type": "code",
   "execution_count": 30,
   "metadata": {},
   "outputs": [
    {
     "name": "stdout",
     "output_type": "stream",
     "text": [
      "[-1, -1, -1, -1, -1, -1]\n",
      "0: [0]\n",
      "1: [1]\n",
      "2: [2]\n",
      "3: [3]\n",
      "4: [4]\n",
      "5: [5]\n",
      "---------\n",
      "[-2, -1, 0, -1, -1, -1]\n",
      "0: [0, 2]\n",
      "1: [1]\n",
      "3: [3]\n",
      "4: [4]\n",
      "5: [5]\n",
      "-----------\n",
      "[-2, -2, 0, 1, -1, -1]\n",
      "0: [0, 2]\n",
      "1: [1, 3]\n",
      "4: [4]\n",
      "5: [5]\n",
      "---------\n",
      "[-2, -2, 0, 1, -2, 4]\n",
      "0: [0, 2]\n",
      "1: [1, 3]\n",
      "4: [4, 5]\n",
      "---------\n",
      "[-2, -4, 0, 1, 1, 4]\n",
      "0: [0, 2]\n",
      "1: [1, 3, 4, 5]\n",
      "[-2, -4, 0, 1, 1, 1]\n",
      "---------\n"
     ]
    }
   ],
   "source": [
    "uf = UnionFind(6)\n",
    "print(uf.parents)\n",
    "print(uf)\n",
    "print('---------')\n",
    "uf.union(0, 2)\n",
    "print(uf.parents)\n",
    "print(uf)\n",
    "print('-----------')\n",
    "uf.union(1, 3)\n",
    "print(uf.parents)\n",
    "print(uf)\n",
    "print('---------')\n",
    "uf.union(4, 5)\n",
    "print(uf.parents)\n",
    "print(uf)\n",
    "print('---------')\n",
    "uf.union(1, 4)\n",
    "print(uf.parents)\n",
    "print(uf)\n",
    "print(uf.parents)\n",
    "print('---------')"
   ]
  },
  {
   "cell_type": "code",
   "execution_count": 33,
   "metadata": {},
   "outputs": [
    {
     "name": "stdout",
     "output_type": "stream",
     "text": [
      "1\n",
      "[-2, -4, 0, 1, 1, 1]\n",
      "2\n",
      "4\n",
      "True\n",
      "[0, 2]\n",
      "[1, 3, 4, 5]\n",
      "[0, 1]\n"
     ]
    }
   ],
   "source": [
    "print(uf.find(5))\n",
    "print(uf.parents)\n",
    "print(uf.size(0))\n",
    "print(uf.size(5)) ## 要素５が所属している木のノード数\n",
    "print(uf.same(0, 2))\n",
    "print(uf.members(0))\n",
    "print(uf.members(5))\n",
    "print(uf.roots())"
   ]
  },
  {
   "cell_type": "code",
   "execution_count": null,
   "metadata": {},
   "outputs": [],
   "source": [
    "V, E = map(int, input().split())\n",
    "edges = []\n",
    "for i in range(E):\n",
    "    s, t, w = map(int, input().split())\n",
    "    edges.append((w, s-1, t-1))\n",
    "edges.sort()\n",
    "\n",
    "def kruskal(n, edges):#edges: wでソート済み\n",
    "    U = UnionFind(n)\n",
    "    res = 0\n",
    "    for e in edges:\n",
    "        w, s, t = e\n",
    "        if not U.same(s, t):\n",
    "            res+=w\n",
    "            U.unite(s, t)\n",
    "    return res\n",
    "print(kruskal(V, edges))"
   ]
  }
 ],
 "metadata": {
  "kernelspec": {
   "display_name": "Python 3",
   "language": "python",
   "name": "python3"
  },
  "language_info": {
   "codemirror_mode": {
    "name": "ipython",
    "version": 3
   },
   "file_extension": ".py",
   "mimetype": "text/x-python",
   "name": "python",
   "nbconvert_exporter": "python",
   "pygments_lexer": "ipython3",
   "version": "3.7.4"
  }
 },
 "nbformat": 4,
 "nbformat_minor": 2
}
